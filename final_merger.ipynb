{
 "cells": [
  {
   "cell_type": "code",
   "execution_count": 1,
   "id": "052fb8a4-c3bf-4292-b9c7-590827d40330",
   "metadata": {},
   "outputs": [],
   "source": [
    "import networkx as nx\n",
    "from itertools import combinations\n",
    "import os\n",
    "import re\n",
    "import regex\n",
    "import json\n",
    "import lucene\n",
    "from lupyne import engine\n",
    "import json\n",
    "import unicodedata\n",
    "import os\n",
    "import time"
   ]
  },
  {
   "cell_type": "code",
   "execution_count": 2,
   "id": "4e6aec66-1072-4cd1-943c-87e65ea3ad2e",
   "metadata": {},
   "outputs": [
    {
     "data": {
      "text/plain": [
       "<jcc.JCCEnv at 0x7f58d47a1290>"
      ]
     },
     "execution_count": 2,
     "metadata": {},
     "output_type": "execute_result"
    }
   ],
   "source": [
    "lucene.initVM(vmargs=['-Djava.awt.headless=true'])"
   ]
  },
  {
   "cell_type": "code",
   "execution_count": 3,
   "id": "e32e9bab-7cfc-4853-8dcd-4e90175bf2ae",
   "metadata": {},
   "outputs": [],
   "source": [
    "indexer = engine.Indexer('lucene_index')"
   ]
  },
  {
   "cell_type": "code",
   "execution_count": 4,
   "id": "29bd244c-a2fd-4145-9f9c-9d305a28f56a",
   "metadata": {},
   "outputs": [],
   "source": [
    "def load_graph():\n",
    "    try:\n",
    "        return nx.read_gml('graph_index.gml')\n",
    "    except FileNotFoundError or nx.NetworkXError:\n",
    "        loaded_graph = False\n",
    "        return nx.Graph()"
   ]
  },
  {
   "cell_type": "code",
   "execution_count": 5,
   "id": "9941a2a4-49c2-41ca-bd09-48e508c13214",
   "metadata": {},
   "outputs": [],
   "source": [
    "G = load_graph()"
   ]
  },
  {
   "cell_type": "code",
   "execution_count": 6,
   "id": "2f38c6fc-b727-4c0f-be30-a8949a1da2fe",
   "metadata": {},
   "outputs": [],
   "source": [
    "def get_connections_if_any(query):\n",
    "    result_query = query\n",
    "    any_connections = re.search('connections:.*;', query)\n",
    "    connections_entities_to_find = []\n",
    "    if any_connections:\n",
    "        result_query.replace(str(any_connections.group(\n",
    "            0)), '')\n",
    "        any_connections = any_connections.group(\n",
    "            0).replace('connections:', '')\n",
    "        entities = regex.findall('([a-zA-Z \\.]*)', any_connections)\n",
    "        connections_entities_to_find = [\n",
    "            entity.strip() for entity in entities if entity != '']\n",
    "    return connections_entities_to_find, result_query"
   ]
  },
  {
   "cell_type": "code",
   "execution_count": 7,
   "id": "464344d2-c996-4571-81ac-8196048d9eba",
   "metadata": {},
   "outputs": [],
   "source": [
    "# neighbors = set()\n",
    "# # connections_entities = get_connections_if_any('connections: Andrej Kiska;')\n",
    "# # connections_entities = get_connections_if_any('connections: Blato s.r.o;')\n",
    "# # connections_entities = get_connections_if_any('connections: Robert Fico;')\n",
    "# connections_entities = get_connections_if_any('connections: Robert Fico; Peter Weiss;')\n",
    "# for entity in connections_entities:\n",
    "#     try:\n",
    "#         neighbors.update(x[0] for x in sorted(\n",
    "#             G[entity].items(), key=lambda edge: edge[1]['weight']))\n",
    "#     except KeyError:\n",
    "#         pass\n",
    "# if neighbors:\n",
    "#     print('\\n', connections_entities, ': ', ', '.join(\n",
    "#         list(neighbors - set(connections_entities))[:10]))"
   ]
  },
  {
   "cell_type": "code",
   "execution_count": 8,
   "id": "a7083a9a-3083-41ff-a933-a414ad6bdf1f",
   "metadata": {},
   "outputs": [],
   "source": [
    "# hits = indexer.search('fico', field='content', count=10, mincount=25000, timeout=30)\n",
    "# for hit in hits:\n",
    "#     print(hit['url'])\n",
    "#     print(hit['title'])"
   ]
  },
  {
   "cell_type": "code",
   "execution_count": 9,
   "id": "8277761b-97ed-4006-9b47-fc6c910b4086",
   "metadata": {},
   "outputs": [],
   "source": [
    "def terminal_show_commands():\n",
    "    print('If you want to exit program, them enter: exit')\n",
    "    print(\"If you want find connections between entities write them in this format: connections: <Robert Fico>; <Peter Pellegrini>; ...\")\n",
    "    print('Enter query: ')"
   ]
  },
  {
   "cell_type": "code",
   "execution_count": 10,
   "id": "dee20fb7-9278-4d1f-bacd-f8c3dec3a17f",
   "metadata": {},
   "outputs": [],
   "source": [
    "def run():\n",
    "    Q = engine.Query\n",
    "    while True:\n",
    "        terminal_show_commands()\n",
    "        command = input()\n",
    "        if command == \"exit\":\n",
    "            break\n",
    "        else:\n",
    "            start = time.time()\n",
    "            connections_entities, query = get_connections_if_any(command)\n",
    "            # q = Q.phrase('text', 'slovensko')\n",
    "            hits = indexer.search(query, field='content', count=10, mincount=25000, timeout=30)\n",
    "            if len(hits) == 0:\n",
    "                print('We did not found anything relevant')\n",
    "            else:\n",
    "                print('\\nFound results: \\n')\n",
    "                for hit in hits:\n",
    "                    with open('/usr/src//HTML/' + hit['file_path'], 'r', encoding='utf-8') as json_file:\n",
    "                        doc = json.load(json_file)\n",
    "                        print(doc['url'])\n",
    "                        print(doc['title'])\n",
    "            neighbors = set()\n",
    "            for entity in connections_entities:\n",
    "                try:\n",
    "                    neighbors.update(x[0] for x in sorted(\n",
    "                        G[entity].items(), key=lambda edge: edge[1]['weight']))\n",
    "                except KeyError:\n",
    "                    pass\n",
    "            if neighbors:\n",
    "                print('\\n', connections_entities, ': ', ', '.join(\n",
    "                    list(neighbors - set(connections_entities))[:10]))\n",
    "            end = time.time()\n",
    "            print(\"running time: \", str(end - start))"
   ]
  },
  {
   "cell_type": "code",
   "execution_count": 11,
   "id": "355bba8d-e8a1-4781-bcc4-800f54d9edf7",
   "metadata": {},
   "outputs": [
    {
     "name": "stdout",
     "output_type": "stream",
     "text": [
      "If you want to exit program, them enter: exit\n",
      "If you want find connections between entities write them in this format: connections: <Robert Fico>; <Peter Pellegrini>; ...\n",
      "Enter query: \n"
     ]
    },
    {
     "name": "stdin",
     "output_type": "stream",
     "text": [
      " connections: Robert Fico;\n"
     ]
    },
    {
     "name": "stdout",
     "output_type": "stream",
     "text": [
      "\n",
      "Found results: \n",
      "\n",
      "https://www.aktuality.sk/clanok/668818/komentar-petra-bardyho-fico-chce-ostat-do-roku-2031/\n",
      "Komentár Petra Bárdyho: Fico chce ostať do roku 2031\n",
      "https://www.aktuality.sk/clanok/585344/alfasamec-verzus-mierotvorca-fico-verzus-pellegrini-aky-bude-novy-smer/\n",
      "Alfasamec verzus mierotvorca, Fico verzus Pellegrini. Aký bude nový Smer?\n",
      "https://www.aktuality.sk/clanok/536968/komentar-daga-danisa-preco-sa-fico-stratil/\n",
      "Komentár Daga Daniša: Prečo sa Fico stratil\n",
      "https://www.aktuality.sk/clanok/670513/komentar-daga-danisa-dokazat-ficovi-vydieranie-bude-tazke/\n",
      "Komentár Daga Daniša: Dokázať Ficovi vydieranie bude ťažké\n",
      "https://www.aktuality.sk/clanok/513753/komentar-daga-danisa-danko-odistil-granat-a-vybuchol/\n",
      "Komentár Daga Daniša: Danko odistil granát. A vybuchol\n",
      "https://www.aktuality.sk/clanok/426058/komentar-daga-danisa-rok-ktory-fica-celkom-zlomil/\n",
      "Komentár Daga Daniša: Rok, ktorý Fica celkom zlomil\n",
      "https://www.aktuality.sk/clanok/667100/komentar-daga-danisa-pozor-fico-to-nevzdal-drzi-sa-planu-b/\n",
      "Komentár Daga Daniša: Pozor, Fico to nevzdal. Drží sa plánu B\n",
      "https://www.aktuality.sk/clanok/724947/komentar-daga-danisa-aliancia-fico-kotleba-je-coraz-realnejsia/\n",
      "Komentár Daga Daniša: Aliancia Fico - Kotleba je čoraz reálnejšia\n",
      "https://www.aktuality.sk/clanok/728544/komentar-daga-danisa-sulik-robi-to-co-fico-zatial-nemoze/\n",
      "Komentár Daga Daniša: Sulík robí to, čo Fico (zatiaľ) nemôže\n",
      "https://www.aktuality.sk/clanok/543121/komentar-daga-danisa-ficova-hra-velke-divadlo-s-velkym-hrdinom/\n",
      "Komentár Daga Daniša: Ficova hra. Veľké divadlo s veľkým hrdinom\n",
      "\n",
      " ['Robert Fico'] :  Zuzana Fialov, Jeremy Co, Andrea Ol, Michaela Pavelkov, Jaroslav Ba, Peter Gajdo, Boris Balogh, Andrej Stan, Peter Scholtz, Peter Han\n",
      "running time:  0.16455960273742676\n",
      "If you want to exit program, them enter: exit\n",
      "If you want find connections between entities write them in this format: connections: <Robert Fico>; <Peter Pellegrini>; ...\n",
      "Enter query: \n"
     ]
    },
    {
     "name": "stdin",
     "output_type": "stream",
     "text": [
      " pandemia\n"
     ]
    },
    {
     "name": "stdout",
     "output_type": "stream",
     "text": [
      "\n",
      "Found results: \n",
      "\n",
      "https://www.aktuality.sk/clanok/hc7m81g/pandemia-snad-casom-pominie-co-sa-na-ludi-chysta-po-nej/\n",
      "Pandémia snáď časom pominie. Čo sa na ľudí chystá po nej? \n",
      "https://www.aktuality.sk/clanok/869484/matovic-je-ako-premier-opoziciou-vo-vlastnej-koalicii-co-je-absurdne-tvrdi-samo-marec-podcast/\n",
      "Premiér Matovič je opozíciou vlastnej koalícii, čo je absurdné, tvrdí Samo Marec (podcast)\n",
      "https://www.aktuality.sk/clanok/821055/slovensko-zanedbalo-pripravu-na-druhu-vlnu-mame-malo-hygienikov-podcast/\n",
      "Slovensko zanedbalo prípravu na druhú vlnu: Máme málo hygienikov (podcast)\n",
      "https://www.aktuality.sk/clanok/895187/parova-terapeutka-tema-ockovania-vie-rozbit-aj-dlhorocne-manzelstva-tam-sa-kompromis-nepripusta-podcast/\n",
      "Párová terapeutka: Téma očkovania vie rozbiť aj dlhoročné manželstvá, tam sa kompromis nepripúšťa (podcast)\n",
      "https://www.aktuality.sk/clanok/841437/pandemia-na-slovensku-vedci-sklamani-z-politikov-nazor/\n",
      "Pandémia na Slovensku: vedci sklamaní z politikov (názor)\n",
      "https://www.aktuality.sk/clanok/d731hf1/nestudujeme-pre-diplomy-skola-nas-pre-zivot-nepripravi-tvrdia-vysokoskolaci-podcast/\n",
      "Neštudujeme pre diplomy, škola nás pre život nepripraví, tvrdia vysokoškoláci (podcast)\n",
      "https://www.aktuality.sk/clanok/866298/psychologicka-kucharova-vsetko-ma-svoj-koniec-ak-skoncil-udajne-vecny-socializmus-musi-skoncit-aj-korona-podcast/\n",
      "Vydržať! Ak skončil „večný“ socializmus, musí skončiť aj koronakríza, hovorí psychologička Kuchárová (podcast)\n",
      "https://www.aktuality.sk/clanok/776353/verim-konkretnym-lekarom-v-system-uplnu-doveru-nemam-hovori-lekar-a-vedec-peter-celec-podcast/\n",
      "Verím konkrétnym lekárom, v systém úplnú dôveru nemám, hovorí lekár a vedec Peter Celec (podcast)\n",
      "https://www.aktuality.sk/clanok/163163/komisia-who-posudi-pandemiu-tzv-prasacej-chripky/\n",
      "Komisia WHO posúdi pandémiu tzv. prasacej chrípky\n",
      "https://www.aktuality.sk/clanok/785903/pandemia-sa-bude-zrejme-opakovat-odpovedou-by-malo-byt-povinne-ockovanie-podcast/\n",
      "Pandémia sa bude pravdepodobne opakovať, odpoveďou by malo byť povinné očkovanie (podcast)\n",
      "running time:  0.08304572105407715\n",
      "If you want to exit program, them enter: exit\n",
      "If you want find connections between entities write them in this format: connections: <Robert Fico>; <Peter Pellegrini>; ...\n",
      "Enter query: \n"
     ]
    },
    {
     "name": "stdin",
     "output_type": "stream",
     "text": [
      " covid-19\n"
     ]
    },
    {
     "name": "stdout",
     "output_type": "stream",
     "text": [
      "\n",
      "Found results: \n",
      "\n",
      "https://www.aktuality.sk/clanok/nqp3qkv/senatori-chcu-zablokovat-internetove-ucty-prezidenta-bolsonara/\n",
      "Senátori chcú zablokovať internetové účty prezidenta Bolsonara\n",
      "https://www.aktuality.sk/clanok/gr3ksr7/koronavirus-eurokomisia-predstavila-10-moznych-liekov-na-liecbu-covidu/\n",
      "Koronavírus: Eurokomisia predstavila 10 možných liekov na liečbu covidu\n",
      "https://www.aktuality.sk/clanok/hve98jd/who-plan-boja-proti-covidu-si-ziada-na-buduci-rok-vyse-23-miliard-dolarov/\n",
      "WHO: Plán boja proti covidu si žiada na budúci rok vyše 23 miliárd dolárov\n",
      "https://www.aktuality.sk/clanok/817322/covid-19-poducme-sa-od-azie-nazor/\n",
      "Covid-19 – podučme sa od Ázie (názor)\n",
      "https://www.aktuality.sk/clanok/jp641cv/koronavirus-facebook-odstranil-video-brazilskeho-prezidenta-klamal-o-vakcine-proti-covidu/\n",
      "Koronavírus: Facebook odstránil video brazílskeho prezidenta. Klamal o vakcíne proti covidu\n",
      "https://www.aktuality.sk/clanok/fmcqzmm/koronavirus-cyprus-zaraduje-slovensko-do-cervenej-zony-nezaockovani-potrebuju-test/\n",
      "Koronavírus: Cyprus zaraďuje Slovensko do červenej zóny, nezaočkovaní potrebujú test\n",
      "https://www.aktuality.sk/clanok/w7ftjnh/usa-celkovy-pocet-obeti-ochorenia-covid-19-presiahol-hranicu-700-tisic-obeti/\n",
      "USA: Celkový počet obetí ochorenia COVID-19 presiahol hranicu 700-tisíc obetí\n",
      "https://www.aktuality.sk/clanok/yc23s84/koronavirus-v-usa-osirelo-pocas-pandemie-uz-vyse-120-tisic-deti/\n",
      "Koronavírus: V USA osirelo počas pandémie už vyše 120-tisíc detí\n",
      "https://www.aktuality.sk/clanok/ryw39bk/koronavirus-eu-podpisala-dohodu-o-nakupe-prveho-pripravku-na-liecbu/\n",
      "Koronavírus: EÚ podpísala dohodu o nákupe prvého prípravku na liečbu\n",
      "https://www.aktuality.sk/clanok/848661/pellegrini-je-v-karantene-mal-pozitivny-test-na-koronavirus-covid-19/\n",
      "Pellegrini je v karanténe. Mal pozitívny test na koronavírus\n",
      "running time:  0.09993743896484375\n",
      "If you want to exit program, them enter: exit\n",
      "If you want find connections between entities write them in this format: connections: <Robert Fico>; <Peter Pellegrini>; ...\n",
      "Enter query: \n"
     ]
    },
    {
     "name": "stdin",
     "output_type": "stream",
     "text": [
      " vichrica\n"
     ]
    },
    {
     "name": "stdout",
     "output_type": "stream",
     "text": [
      "\n",
      "Found results: \n",
      "\n",
      "https://www.aktuality.sk/clanok/868385/kauzy-burka-a-vichrica-maju-noveho-dozorujuceho-prokuratora/\n",
      "Kauzy Búrka a Víchrica majú nového dozorujúceho prokurátora\n",
      "https://www.aktuality.sk/clanok/625993/tyzden-sa-zacne-studenym-a-veternych-pocasim/\n",
      "Týždeň sa začne studeným a veterných počasím\n",
      "https://www.aktuality.sk/clanok/835492/ministerka-kolikova-pozastavila-vykon-funkcie-dvom-sudcom-z-akcie-vichrica/\n",
      "Ministerka Kolíková pozastavila výkon funkcie dvom sudcom z akcie Víchrica\n",
      "https://www.aktuality.sk/clanok/534376/vichrica-a-sneh-potrapia-slovensko-aj-dnes/\n",
      "Víchrica a sneh potrápia Slovensko aj dnes\n",
      "https://www.aktuality.sk/clanok/766352/cez-vikend-zasiahne-slovensko-silny-vietor/\n",
      "Cez víkend zasiahne Slovensko silný vietor\n",
      "https://www.aktuality.sk/clanok/139007/taliansko-burky-a-vichrica-si-vyziadali-jednu-obet/\n",
      "Taliansko: Búrky a víchrica si vyžiadali jednu obeť\n",
      "https://www.aktuality.sk/clanok/730727/na-severe-slovenska-moze-dnes-sprchnut/\n",
      "Na severe Slovenska môže dnes spŕchnuť\n",
      "https://www.aktuality.sk/clanok/749387/v-nedelu-bude-oblacne-pocasie-a-teplo/\n",
      "V nedeľu bude oblačné počasie a teplo\n",
      "https://www.aktuality.sk/clanok/892398/najvyssi-sud-nezmenil-dovody-vazby-u-moniky-jankovskej-a-exsudcu-molnara/\n",
      "Najvyšší súd nezmenil dôvody väzby u Moniky Jankovskej a exsudcu Molnára\n",
      "https://www.aktuality.sk/clanok/801097/v-utorok-bude-oblacno-na-severe-prehanky/\n",
      "V utorok bude oblačno, na severe prehánky\n",
      "running time:  0.038223981857299805\n",
      "If you want to exit program, them enter: exit\n",
      "If you want find connections between entities write them in this format: connections: <Robert Fico>; <Peter Pellegrini>; ...\n",
      "Enter query: \n"
     ]
    },
    {
     "name": "stdin",
     "output_type": "stream",
     "text": [
      " connections: Jan Kuciak;\n"
     ]
    },
    {
     "name": "stdout",
     "output_type": "stream",
     "text": [
      "\n",
      "Found results: \n",
      "\n",
      "https://www.aktuality.sk/clanok/714624/komentar-petra-bardyho-kde-vsade-sa-v-policii-este-vynori-kocner-a-boedoer/\n",
      "Komentár Petra Bárdyho: Kde všade sa v polícii ešte vynorí Kočner a Bödör?\n",
      "https://www.aktuality.sk/clanok/662966/komentar-daga-danisa-vrazda-lipsica-mala-stat-200-tisic-eur/\n",
      "Komentár Daga Daniša: Vražda Lipšica mala stáť 200-tisíc eur\n",
      "https://www.aktuality.sk/clanok/726475/komentar-daga-danisa-ako-sme-naleteli-kocnerovi/\n",
      "Komentár Daga Daniša: Ako sme naleteli Kočnerovi\n",
      "https://www.aktuality.sk/clanok/754753/komentar-petra-bardyho-priznal-sa-k-vrazde-ale-nie-je-v-tom-sam/\n",
      "Komentár Petra Bárdyho: Priznal sa k vražde, ale nie je v tom sám\n",
      "https://www.aktuality.sk/clanok/568612/komentar-daga-danisa-kalinaka-a-gaspara-treba-prezliect/\n",
      "Komentár Daga Daniša: Kaliňáka a Gašpara treba prezliecť\n",
      "https://www.aktuality.sk/clanok/899409/sud-mal-v-pripade-kuciak-urobit-chyby-nechape-ich-kuciak-starsi-ani-pravnik-kvasnica-podcast/\n",
      "Súd mal v prípade Kuciak urobiť chyby. Nechápe ich Kuciak starší ani právnik Kvasnica (podcast)\n",
      "https://www.aktuality.sk/clanok/630927/komentar-daga-danisa-jana-kuciaka-mohla-zabit-talianska-mafia/\n",
      "Komentár Daga Daniša: Jána Kuciaka mohla zabiť „talianska mafia“\n",
      "https://www.aktuality.sk/clanok/568197/komentar-daga-danisa-mafia-pohrozila-vojnou-mediam-bude-ju-mat/\n",
      "Komentár Daga Daniša: Mafia pohrozila vojnou médiám. Bude ju mať\n",
      "https://www.aktuality.sk/clanok/662023/komentar-daga-danisa-gaspar-sa-spraval-cudne-pred-vrazdou-aj-po-nej/\n",
      "Komentár Daga Daniša: Gašpar sa správal čudne pred vraždou aj po nej\n",
      "https://www.aktuality.sk/clanok/755468/komentar-daga-danisa-aky-bol-kocnerov-motiv/\n",
      "Komentár Daga Daniša: Aký bol Kočnerov motív\n",
      "\n",
      " ['Jan Kuciak'] :  Martina Kus, Tibor Gas, Robert Kalin, Miroslav Bo, Viliam Jasan, Robert Fico, Norbert Bo, Andrej Kiska\n",
      "running time:  0.0727849006652832\n",
      "If you want to exit program, them enter: exit\n",
      "If you want find connections between entities write them in this format: connections: <Robert Fico>; <Peter Pellegrini>; ...\n",
      "Enter query: \n"
     ]
    },
    {
     "name": "stdin",
     "output_type": "stream",
     "text": [
      " exit\n"
     ]
    }
   ],
   "source": [
    "run()"
   ]
  },
  {
   "cell_type": "code",
   "execution_count": null,
   "id": "d0cd538d-b8d1-485d-9a5f-627746706973",
   "metadata": {},
   "outputs": [],
   "source": []
  }
 ],
 "metadata": {
  "kernelspec": {
   "display_name": "Python 3 (ipykernel)",
   "language": "python",
   "name": "python3"
  },
  "language_info": {
   "codemirror_mode": {
    "name": "ipython",
    "version": 3
   },
   "file_extension": ".py",
   "mimetype": "text/x-python",
   "name": "python",
   "nbconvert_exporter": "python",
   "pygments_lexer": "ipython3",
   "version": "3.8.10"
  }
 },
 "nbformat": 4,
 "nbformat_minor": 5
}
