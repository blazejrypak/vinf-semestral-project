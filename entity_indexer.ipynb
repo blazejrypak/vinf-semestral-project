{
 "cells": [
  {
   "cell_type": "code",
   "execution_count": 1,
   "id": "1cbd8286-b377-425e-8ca8-3860f8d09a97",
   "metadata": {},
   "outputs": [],
   "source": [
    "import networkx as nx\n",
    "from itertools import combinations\n",
    "import os\n",
    "import re\n",
    "import regex\n",
    "import json"
   ]
  },
  {
   "cell_type": "code",
   "execution_count": 2,
   "id": "1f4ed74b-329d-4348-88e7-51f6a9c3e843",
   "metadata": {},
   "outputs": [],
   "source": [
    "loaded_graph = True"
   ]
  },
  {
   "cell_type": "code",
   "execution_count": 3,
   "id": "35195ba3-9fb0-4597-8dd4-7519c3517a4b",
   "metadata": {},
   "outputs": [],
   "source": [
    "def save_graph():\n",
    "    nx.write_gml(G, 'graph_index.gml')"
   ]
  },
  {
   "cell_type": "code",
   "execution_count": 4,
   "id": "39593741-f03f-4a14-88d9-ac26983f3d9f",
   "metadata": {},
   "outputs": [],
   "source": [
    "def load_graph():\n",
    "    try:\n",
    "        return nx.read_gml('graph_index.gml')\n",
    "    except FileNotFoundError or nx.NetworkXError:\n",
    "        loaded_graph = False\n",
    "        return nx.Graph()"
   ]
  },
  {
   "cell_type": "code",
   "execution_count": 5,
   "id": "0769a618-2158-4b95-9b2a-1683ea9683c8",
   "metadata": {},
   "outputs": [],
   "source": [
    "G = load_graph()"
   ]
  },
  {
   "cell_type": "code",
   "execution_count": 6,
   "id": "95b5a695-83ca-4395-802e-c280bcfcc19d",
   "metadata": {},
   "outputs": [],
   "source": [
    "# companies Blato s.r.o\n",
    "all_companies = {} # key filename, value companies[]\n",
    "if not loaded_graph:\n",
    "    for base_path_n in range(1, 7):\n",
    "        companies_pase_path = f'/usr/src/HTML/companies_output_part_{base_path_n}/'\n",
    "        companies_collection = iter(sorted(os.listdir(companies_pase_path)))\n",
    "        for current_file_path in companies_collection:\n",
    "            if '_SUCCESS' not in current_file_path and not str(current_file_path).startswith('.'):\n",
    "                with open(companies_pase_path + current_file_path, 'r', encoding='utf-8') as json_file:\n",
    "                    data = json.loads(json_file.read())\n",
    "                    companies = data['entity']\n",
    "                    if companies:\n",
    "                        all_companies[data['file_name']] = companies"
   ]
  },
  {
   "cell_type": "code",
   "execution_count": 7,
   "id": "b171c235-6ae7-45e9-9145-0eadcc4b2670",
   "metadata": {},
   "outputs": [],
   "source": [
    "# people with companies\n",
    "if not loaded_graph:\n",
    "    for base_path_n in range(1, 7):\n",
    "        base_path = f'/usr/src//HTML/entity_names_output_part_{base_path_n}/'\n",
    "        collection = iter(sorted(os.listdir(base_path)))\n",
    "        for current_file_path in collection:\n",
    "            if '_SUCCESS' not in current_file_path and not str(current_file_path).startswith('.'):\n",
    "                try:\n",
    "                    with open(base_path + current_file_path, 'r', encoding='utf-8') as json_file:\n",
    "                        data = json.loads(json_file.read())\n",
    "                        entities = data['entity']\n",
    "                        if entities:\n",
    "                            companies = all_companies.get(data['file_name'], None)\n",
    "                            if companies:\n",
    "                                entities.extend(list(set(companies)))\n",
    "                        if len(entities) > 1:\n",
    "                            for edge in combinations(set(entities), 2):\n",
    "                                if len(edge) == 2:\n",
    "                                    if G.has_edge(*edge): # add weight\n",
    "                                        G[edge[0]][edge[1]]['weight'] += 1\n",
    "                                        G[edge[1]][edge[0]]['weight'] += 1\n",
    "                                    else:\n",
    "                                        G.add_edge(edge[0], edge[1], weight = 1)\n",
    "                                        G.add_edge(edge[1], edge[0], weight = 1)\n",
    "                except Exception as e:\n",
    "                    continue"
   ]
  },
  {
   "cell_type": "code",
   "execution_count": 8,
   "id": "c424505e-a9f8-454d-9c2e-0eac6d7720ac",
   "metadata": {},
   "outputs": [],
   "source": [
    "if not loaded_graph:\n",
    "    save_graph()"
   ]
  },
  {
   "cell_type": "code",
   "execution_count": 9,
   "id": "a5844132-72f3-4606-865c-7f200939106d",
   "metadata": {},
   "outputs": [],
   "source": [
    "def get_connections_if_any(query):\n",
    "    any_connections = re.search('connections:.*;', query)\n",
    "    connections_entities_to_find = []\n",
    "    if any_connections:\n",
    "        any_connections = any_connections.group(\n",
    "            0).replace('connections:', '')\n",
    "        entities = regex.findall('([a-zA-Z \\.]*)', any_connections)\n",
    "        connections_entities_to_find = [\n",
    "            entity.strip() for entity in entities if entity != '']\n",
    "    return connections_entities_to_find"
   ]
  },
  {
   "cell_type": "code",
   "execution_count": 17,
   "id": "268d44cb-6036-4094-ab93-925d81ee1852",
   "metadata": {},
   "outputs": [
    {
     "name": "stdout",
     "output_type": "stream",
     "text": [
      "\n",
      " ['Robert Fico', 'Peter Weiss'] :  Juraj Kapinaj, Ondrej Urban, Jan Werich, Miroslava Koll, Pavol Pavlis, Lenka Ivanov, Gabriela Gregorovi, Ladislav Kondrc, Marek Domin, Michal Horv\n"
     ]
    }
   ],
   "source": [
    "neighbors = set()\n",
    "# connections_entities = get_connections_if_any('connections: Andrej Kiska;')\n",
    "# connections_entities = get_connections_if_any('connections: Blato s.r.o;')\n",
    "# connections_entities = get_connections_if_any('connections: Robert Fico;')\n",
    "connections_entities = get_connections_if_any('connections: Robert Fico; Peter Weiss;')\n",
    "for entity in connections_entities:\n",
    "    try:\n",
    "        neighbors.update(x[0] for x in sorted(\n",
    "            G[entity].items(), key=lambda edge: edge[1]['weight']))\n",
    "    except KeyError:\n",
    "        pass\n",
    "if neighbors:\n",
    "    print('\\n', connections_entities, ': ', ', '.join(\n",
    "        list(neighbors - set(connections_entities))[:10]))"
   ]
  },
  {
   "cell_type": "code",
   "execution_count": null,
   "id": "7b8c3fdf-d2a4-463f-b037-046ff8358d27",
   "metadata": {},
   "outputs": [],
   "source": []
  }
 ],
 "metadata": {
  "kernelspec": {
   "display_name": "Python 3 (ipykernel)",
   "language": "python",
   "name": "python3"
  },
  "language_info": {
   "codemirror_mode": {
    "name": "ipython",
    "version": 3
   },
   "file_extension": ".py",
   "mimetype": "text/x-python",
   "name": "python",
   "nbconvert_exporter": "python",
   "pygments_lexer": "ipython3",
   "version": "3.8.10"
  }
 },
 "nbformat": 4,
 "nbformat_minor": 5
}
