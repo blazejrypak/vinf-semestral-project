{
 "cells": [
  {
   "cell_type": "code",
   "execution_count": 1,
   "id": "052fb8a4-c3bf-4292-b9c7-590827d40330",
   "metadata": {},
   "outputs": [],
   "source": [
    "import networkx as nx\n",
    "from itertools import combinations\n",
    "import os\n",
    "import re\n",
    "import regex\n",
    "import json\n",
    "import lucene\n",
    "from lupyne import engine\n",
    "import json\n",
    "import unicodedata\n",
    "import os\n",
    "import time"
   ]
  },
  {
   "cell_type": "code",
   "execution_count": 2,
   "id": "4e6aec66-1072-4cd1-943c-87e65ea3ad2e",
   "metadata": {},
   "outputs": [
    {
     "data": {
      "text/plain": [
       "<jcc.JCCEnv at 0x7f3a4c75b2b0>"
      ]
     },
     "execution_count": 2,
     "metadata": {},
     "output_type": "execute_result"
    }
   ],
   "source": [
    "lucene.initVM(vmargs=['-Djava.awt.headless=true'])"
   ]
  },
  {
   "cell_type": "code",
   "execution_count": 3,
   "id": "e32e9bab-7cfc-4853-8dcd-4e90175bf2ae",
   "metadata": {},
   "outputs": [],
   "source": [
    "indexer = engine.Indexer('lucene_index')"
   ]
  },
  {
   "cell_type": "code",
   "execution_count": 4,
   "id": "29bd244c-a2fd-4145-9f9c-9d305a28f56a",
   "metadata": {},
   "outputs": [],
   "source": [
    "def load_graph():\n",
    "    try:\n",
    "        return nx.read_gml('graph_index.gml')\n",
    "    except FileNotFoundError or nx.NetworkXError:\n",
    "        loaded_graph = False\n",
    "        return nx.Graph()"
   ]
  },
  {
   "cell_type": "code",
   "execution_count": 5,
   "id": "9941a2a4-49c2-41ca-bd09-48e508c13214",
   "metadata": {},
   "outputs": [],
   "source": [
    "G = load_graph()"
   ]
  },
  {
   "cell_type": "code",
   "execution_count": 6,
   "id": "2f38c6fc-b727-4c0f-be30-a8949a1da2fe",
   "metadata": {},
   "outputs": [],
   "source": [
    "def get_connections_if_any(query):\n",
    "    result_query = query\n",
    "    any_connections = re.search('connections:.*;', query)\n",
    "    connections_entities_to_find = []\n",
    "    if any_connections:\n",
    "        result_query.replace(str(any_connections.group(\n",
    "            0)), '')\n",
    "        any_connections = any_connections.group(\n",
    "            0).replace('connections:', '')\n",
    "        entities = regex.findall('([a-zA-Z \\.]*)', any_connections)\n",
    "        connections_entities_to_find = [\n",
    "            entity.strip() for entity in entities if entity != '']\n",
    "    return connections_entities_to_find, result_query"
   ]
  },
  {
   "cell_type": "code",
   "execution_count": 7,
   "id": "8277761b-97ed-4006-9b47-fc6c910b4086",
   "metadata": {},
   "outputs": [],
   "source": [
    "def terminal_show_commands():\n",
    "    print('If you want to exit program, them enter: exit')\n",
    "    print(\"If you want find connections between entities write them in this format: connections: <Robert Fico>; <Peter Pellegrini>; ...\")\n",
    "    print('Enter query: ')"
   ]
  },
  {
   "cell_type": "code",
   "execution_count": 8,
   "id": "dee20fb7-9278-4d1f-bacd-f8c3dec3a17f",
   "metadata": {},
   "outputs": [],
   "source": [
    "def run():\n",
    "    Q = engine.Query\n",
    "    while True:\n",
    "        terminal_show_commands()\n",
    "        command = input()\n",
    "        if command == \"exit\":\n",
    "            break\n",
    "        else:\n",
    "            start = time.time()\n",
    "            connections_entities, query = get_connections_if_any(command)\n",
    "            # q = Q.phrase('text', 'slovensko')\n",
    "            hits = indexer.search(query, field='content', count=10, mincount=25000, timeout=30)\n",
    "            if len(hits) == 0:\n",
    "                print('We did not found anything relevant')\n",
    "            else:\n",
    "                print('\\nFound results: \\n')\n",
    "                for i, hit in enumerate(hits):\n",
    "                    with open('/usr/src//HTML/' + hit['file_path'], 'r', encoding='utf-8') as json_file:\n",
    "                        doc = json.load(json_file)\n",
    "                        print(doc['url'])\n",
    "                        print(doc['title'])\n",
    "                        print()\n",
    "            neighbors = set()\n",
    "            for entity in connections_entities:\n",
    "                try:\n",
    "                    neighbors.update(x[0] for x in sorted(\n",
    "                        G[entity].items(), key=lambda edge: edge[1]['weight']))\n",
    "                except KeyError:\n",
    "                    pass\n",
    "            if neighbors:\n",
    "                print('\\n', connections_entities, ': ', ', '.join(\n",
    "                    list(neighbors - set(connections_entities))[:10]))\n",
    "            end = time.time()\n",
    "            print(\"Running time: \", str(end - start))"
   ]
  },
  {
   "cell_type": "code",
   "execution_count": null,
   "id": "355bba8d-e8a1-4781-bcc4-800f54d9edf7",
   "metadata": {},
   "outputs": [
    {
     "name": "stdout",
     "output_type": "stream",
     "text": [
      "If you want to exit program, them enter: exit\n",
      "If you want find connections between entities write them in this format: connections: <Robert Fico>; <Peter Pellegrini>; ...\n",
      "Enter query: \n"
     ]
    },
    {
     "name": "stdin",
     "output_type": "stream",
     "text": [
      " threema\n"
     ]
    },
    {
     "name": "stdout",
     "output_type": "stream",
     "text": [
      "\n",
      "Found results: \n",
      "\n",
      "https://www.aktuality.sk/clanok/731921/rutime-sa-do-ery-emocionality-varuje-psychiater-podcast/\n",
      "Rútime sa do éry emocionality, varuje psychiater (Podcast)\n",
      "\n",
      "https://www.aktuality.sk/clanok/716088/ako-kocner-zachranoval-koaliciu-na-maldivach-s-bugarom-mimoriadny-podcast/\n",
      "Ako Kočner zachraňoval koalíciu. Na Maldivách s Bugárom (mimoriadny podcast)\n",
      "\n",
      "https://www.aktuality.sk/clanok/717775/merkelovu-zaujimal-kuciak-a-protesty-ako-kocner-a-zsuzsova-chceli-vyuzit-chudobnych-podcast/\n",
      "Merkelovú zaujímal Kuciak a protesty. Ako Kočner a Zsuzsová chceli využiť chudobných (podcast)\n",
      "\n",
      "https://www.aktuality.sk/clanok/744253/sudcovia-potvrdili-threemu-jankovska-a-kocner-sa-aj-stretli-sef-tiposu-v-putach-podcast/\n",
      "Sudcovia potvrdili Threemu, Jankovská a Kočner sa aj stretli. Šéf Tiposu v putách (podcast)\n",
      "\n",
      "https://www.aktuality.sk/clanok/786465/kocnerova-threema-ide-pred-sud-podcast/\n",
      "Kočnerova Threema ide pred súd (podcast)\n",
      "\n",
      "https://www.aktuality.sk/clanok/854940/dobehnu-televizne-zmenky-kocnera-s-ruskom-ci-naopak-podcast/\n",
      "Dobehnú televízne zmenky Kočnera s Ruskom, či naopak? (podcast)\n",
      "\n",
      "https://www.aktuality.sk/clanok/717084/kocner-a-kotlebov-pakt-so-smerom-novinky-o-vrazde-podcast/\n",
      "Kočner vybavoval Kotlebov pakt so Smerom. Novinky o vražde (podcast)\n",
      "\n",
      "https://www.aktuality.sk/clanok/756085/ako-toth-zradil-kocnera-podcast/\n",
      "Ako Tóth zradil Kočnera (podcast zo súdu)\n",
      "\n",
      "https://www.aktuality.sk/clanok/832867/naka-zadrzala-specialneho-prokuratora-dusana-kovacika/\n",
      "NAKA zadržala špeciálneho prokurátora Dušana Kováčika\n",
      "\n",
      "https://www.aktuality.sk/clanok/771844/komentar-daga-danisa-jankovska-je-presne-tam-kde-patri/\n",
      "Komentár Daga Daniša: Jankovská je presne tam, kde patrí\n",
      "\n",
      "Running time:  0.09450674057006836\n",
      "If you want to exit program, them enter: exit\n",
      "If you want find connections between entities write them in this format: connections: <Robert Fico>; <Peter Pellegrini>; ...\n",
      "Enter query: \n"
     ]
    },
    {
     "name": "stdin",
     "output_type": "stream",
     "text": [
      " connections: Jan Kuciak;\n"
     ]
    },
    {
     "name": "stdout",
     "output_type": "stream",
     "text": [
      "\n",
      "Found results: \n",
      "\n",
      "https://www.aktuality.sk/clanok/714624/komentar-petra-bardyho-kde-vsade-sa-v-policii-este-vynori-kocner-a-boedoer/\n",
      "Komentár Petra Bárdyho: Kde všade sa v polícii ešte vynorí Kočner a Bödör?\n",
      "\n",
      "https://www.aktuality.sk/clanok/662966/komentar-daga-danisa-vrazda-lipsica-mala-stat-200-tisic-eur/\n",
      "Komentár Daga Daniša: Vražda Lipšica mala stáť 200-tisíc eur\n",
      "\n",
      "https://www.aktuality.sk/clanok/726475/komentar-daga-danisa-ako-sme-naleteli-kocnerovi/\n",
      "Komentár Daga Daniša: Ako sme naleteli Kočnerovi\n",
      "\n",
      "https://www.aktuality.sk/clanok/754753/komentar-petra-bardyho-priznal-sa-k-vrazde-ale-nie-je-v-tom-sam/\n",
      "Komentár Petra Bárdyho: Priznal sa k vražde, ale nie je v tom sám\n",
      "\n",
      "https://www.aktuality.sk/clanok/568612/komentar-daga-danisa-kalinaka-a-gaspara-treba-prezliect/\n",
      "Komentár Daga Daniša: Kaliňáka a Gašpara treba prezliecť\n",
      "\n",
      "https://www.aktuality.sk/clanok/899409/sud-mal-v-pripade-kuciak-urobit-chyby-nechape-ich-kuciak-starsi-ani-pravnik-kvasnica-podcast/\n",
      "Súd mal v prípade Kuciak urobiť chyby. Nechápe ich Kuciak starší ani právnik Kvasnica (podcast)\n",
      "\n",
      "https://www.aktuality.sk/clanok/630927/komentar-daga-danisa-jana-kuciaka-mohla-zabit-talianska-mafia/\n",
      "Komentár Daga Daniša: Jána Kuciaka mohla zabiť „talianska mafia“\n",
      "\n",
      "https://www.aktuality.sk/clanok/568197/komentar-daga-danisa-mafia-pohrozila-vojnou-mediam-bude-ju-mat/\n",
      "Komentár Daga Daniša: Mafia pohrozila vojnou médiám. Bude ju mať\n",
      "\n",
      "https://www.aktuality.sk/clanok/662023/komentar-daga-danisa-gaspar-sa-spraval-cudne-pred-vrazdou-aj-po-nej/\n",
      "Komentár Daga Daniša: Gašpar sa správal čudne pred vraždou aj po nej\n",
      "\n",
      "https://www.aktuality.sk/clanok/755468/komentar-daga-danisa-aky-bol-kocnerov-motiv/\n",
      "Komentár Daga Daniša: Aký bol Kočnerov motív\n",
      "\n",
      "\n",
      " ['Jan Kuciak'] :  Miroslav Bo, Norbert Bo, Viliam Jasan, Robert Kalin, Martina Kus, Tibor Gas, Robert Fico, Andrej Kiska\n",
      "Running time:  0.1469097137451172\n",
      "If you want to exit program, them enter: exit\n",
      "If you want find connections between entities write them in this format: connections: <Robert Fico>; <Peter Pellegrini>; ...\n",
      "Enter query: \n"
     ]
    },
    {
     "name": "stdin",
     "output_type": "stream",
     "text": [
      " talianska mafia\n"
     ]
    },
    {
     "name": "stdout",
     "output_type": "stream",
     "text": [
      "\n",
      "Found results: \n",
      "\n",
      "https://www.aktuality.sk/clanok/628837/fico-vrazda-a-unos-smer-nie-je-cisty/\n",
      "Fico, vražda a únos. Smer nie je čistý (podcast)\n",
      "\n",
      "https://www.aktuality.sk/clanok/609052/komentar-daga-danisa-preco-sa-na-slovensku-dari-mafiam/\n",
      "Komentár Daga Daniša: Prečo sa na Slovensku darí mafiám\n",
      "\n",
      "https://www.aktuality.sk/clanok/163316/taliansko-falosni-veriaci-pasovali-kokain-v-modlitebnych-knizkach/\n",
      "TALIANSKO: Falošní veriaci pašovali kokaín v modlitebných knižkách\n",
      "\n",
      "https://www.aktuality.sk/clanok/2xsg9rz/talianska-policia-pri-raziach-voci-mafianskemu-klanu-zadrzala-desiatky-ludi/\n",
      "Talianska polícia pri raziách voči mafiánskemu klanu zadržala desiatky ľudí\n",
      "\n",
      "https://www.aktuality.sk/clanok/580315/komentar-petra-kremskeho-ak-nevyzenieme-chobotnicu-vyzenieme-deti/\n",
      "Komentár Petra Kremského: Ak nevyženieme chobotnicu, vyženieme deti\n",
      "\n",
      "https://www.aktuality.sk/clanok/662023/komentar-daga-danisa-gaspar-sa-spraval-cudne-pred-vrazdou-aj-po-nej/\n",
      "Komentár Daga Daniša: Gašpar sa správal čudne pred vraždou aj po nej\n",
      "\n",
      "https://www.aktuality.sk/clanok/613297/komentar-michala-badina-zabava-sa-skoncila-je-cas-odist/\n",
      "Komentár Michala Badína: Zábava sa skončila. Je čas odísť\n",
      "\n",
      "https://www.aktuality.sk/clanok/572379/komentar-daga-danisa-slovenskej-policii-neveria-ani-zahranicni-partneri/\n",
      "Komentár Daga Daniša: Slovenskej polícii neveria ani zahraniční partneri\n",
      "\n",
      "https://www.aktuality.sk/clanok/147979/taliansko-mafia-chce-zarobit-na-rekonstrukcii-po-zemetraseni/\n",
      "Taliansko: Mafia chce zarobiť na rekonštrukcii po zemetrasení\n",
      "\n",
      "https://www.aktuality.sk/clanok/75561/komentar-slobodomurari-zidia-a-jezuiti/\n",
      "Komentár: Slobodomurári, židia a jezuiti\n",
      "\n",
      "Running time:  0.08069062232971191\n",
      "If you want to exit program, them enter: exit\n",
      "If you want find connections between entities write them in this format: connections: <Robert Fico>; <Peter Pellegrini>; ...\n",
      "Enter query: \n"
     ]
    },
    {
     "name": "stdin",
     "output_type": "stream",
     "text": [
      " title: mafia\n"
     ]
    },
    {
     "name": "stdout",
     "output_type": "stream",
     "text": [
      "\n",
      "Found results: \n",
      "\n",
      "https://www.aktuality.sk/clanok/422684/platila-mafia-policajneho-dostojnika/\n",
      "Platila mafia policajného dôstojníka?\n",
      "\n",
      "https://www.aktuality.sk/clanok/153547/taliansko-vybuch-pred-budovou-sudu-ma-na-svedomi-mafia/\n",
      "TALIANSKO: Výbuch pred budovou súdu má na svedomí mafia\n",
      "\n",
      "https://www.aktuality.sk/clanok/147979/taliansko-mafia-chce-zarobit-na-rekonstrukcii-po-zemetraseni/\n",
      "Taliansko: Mafia chce zarobiť na rekonštrukcii po zemetrasení\n",
      "\n",
      "https://www.aktuality.sk/clanok/743117/slovenska-mafia-sykorovci-mozno-chceli-zabit-kocnera-podcast/\n",
      "Slovenská mafia: Sýkorovci možno chceli zabiť Kočnera (podcast)\n",
      "\n",
      "https://www.aktuality.sk/clanok/639218/marian-kocner-mafia-v-politike-a-kuciak-ako-clovek-co-dalej-s-basternakom-podcast/\n",
      "Mafia v politike a Kuciak ako človek. Čo ďalej s Bašternákom (podcast)\n",
      "\n",
      "https://www.aktuality.sk/clanok/361368/videokomentar-michala-badina-mafia-ma-vacsiu-moc-ako-za-meciara/\n",
      "Videokomentár Michala Badína: Mafia má väčšiu moc ako za Mečiara\n",
      "\n",
      "https://www.aktuality.sk/clanok/881765/mafia-na-slovensku-vcera-krv-dnes-cierne-peniaze-podcast/\n",
      "Mafia na Slovensku: včera krv, dnes čierne peniaze (podcast)\n",
      "\n",
      "https://www.aktuality.sk/clanok/616232/komentar-mareka-vagovica-ked-mafia-skusa-nasu-trpezlivost/\n",
      "Komentár Mareka Vagoviča: Keď mafia skúša našu trpezlivosť\n",
      "\n",
      "https://www.aktuality.sk/clanok/fkd22es/udalost-tyzdna-mareka-vagovica-ked-sa-stretne-mafia-na-chate-u-bodora/\n",
      "Udalosť týždňa Mareka Vagoviča: Keď sa stretne mafia na chate u Bödöra\n",
      "\n",
      "https://www.aktuality.sk/clanok/6yjmpgd/premier-heger-v-novom-videu-vyhlasuje-ze-mafia-a-korupcia-budu-porazene/\n",
      "Premiér Heger v novom videu vyhlasuje, že mafia a korupcia budú porazené\n",
      "\n",
      "Running time:  0.10092401504516602\n",
      "If you want to exit program, them enter: exit\n",
      "If you want find connections between entities write them in this format: connections: <Robert Fico>; <Peter Pellegrini>; ...\n",
      "Enter query: \n"
     ]
    },
    {
     "name": "stdin",
     "output_type": "stream",
     "text": [
      " chata fico\n"
     ]
    },
    {
     "name": "stdout",
     "output_type": "stream",
     "text": [
      "\n",
      "Found results: \n",
      "\n",
      "https://www.aktuality.sk/clanok/117806/bezdomovkyna-vypovedala-k-pokusu-o-dvojnasobnu-vrazdu/\n",
      "Bezdomovkyňa vypovedala k pokusu o dvojnásobnú vraždu\n",
      "\n",
      "https://www.aktuality.sk/clanok/73lqyfv/zlodejom-sa-v-rekreacnych-oblastiach-dari/\n",
      "Zlodejom sa v rekreačných oblastiach darí\n",
      "\n",
      "https://www.aktuality.sk/clanok/pgxn3vx/spravca-pritvrdil-basternakovci-mozu-prist-aj-o-luxusnu-vilu-pri-slavine/\n",
      "Správca pritvrdil, Bašternákovci môžu prísť aj o luxusnú vilu pri Slavíne\n",
      "\n",
      "https://www.aktuality.sk/clanok/593012/komentar-ronalda-izipa-velke-peniaze-stastie-neprinesu/\n",
      "Komentár Ronalda Ižipa: Veľké peniaze šťastie neprinesú\n",
      "\n",
      "https://www.aktuality.sk/clanok/518241/hlucny-koncert-na-teryho-chate-kritizuju-ho-iba-ti-ktori-tam-neboli/\n",
      "Hlučný koncert na Téryho chate? Kritizujú ho iba tí, ktorí tam neboli\n",
      "\n",
      "https://www.aktuality.sk/clanok/906539/remisova-chce-cez-vikend-v-divocine-kriesit-za-ludi-chata-to-nevyriesi-odkazuje-kolikova/\n",
      "Remišová chce cez víkend v divočine kriesiť Za ľudí. Chata to nevyrieši, odkazuje Kolíková\n",
      "\n",
      "https://www.aktuality.sk/clanok/784315/komentar-petra-bardyho-politici-a-verejni-funkcionari-ukryvaju-obrovske-majetky/\n",
      "Komentár Petra Bárdyho: Politici a verejní funkcionári ukrývajú obrovské majetky\n",
      "\n",
      "https://www.aktuality.sk/clanok/668818/komentar-petra-bardyho-fico-chce-ostat-do-roku-2031/\n",
      "Komentár Petra Bárdyho: Fico chce ostať do roku 2031\n",
      "\n",
      "https://www.aktuality.sk/clanok/585344/alfasamec-verzus-mierotvorca-fico-verzus-pellegrini-aky-bude-novy-smer/\n",
      "Alfasamec verzus mierotvorca, Fico verzus Pellegrini. Aký bude nový Smer?\n",
      "\n",
      "https://www.aktuality.sk/clanok/536968/komentar-daga-danisa-preco-sa-fico-stratil/\n",
      "Komentár Daga Daniša: Prečo sa Fico stratil\n",
      "\n",
      "Running time:  0.11109018325805664\n",
      "If you want to exit program, them enter: exit\n",
      "If you want find connections between entities write them in this format: connections: <Robert Fico>; <Peter Pellegrini>; ...\n",
      "Enter query: \n"
     ]
    },
    {
     "name": "stdin",
     "output_type": "stream",
     "text": [
      " 2021\n"
     ]
    },
    {
     "name": "stdout",
     "output_type": "stream",
     "text": [
      "\n",
      "Found results: \n",
      "\n",
      "https://www.aktuality.sk/clanok/e4455sy/statisticky-urad-ceny-95-oktanoveho-benzinu-lpg-a-nafty-vzrastli/\n",
      "Štatistický úrad: Ceny 95-oktánového benzínu, LPG a nafty vzrástli\n",
      "\n",
      "https://www.aktuality.sk/clanok/8y3egxs/prokurator-zrusil-obvinenie-novinarov-moniky-todovej-a-konstantina-cikovskeho/\n",
      "Prokurátor zrušil obvinenie novinárov Moniky Tódovej a Konštantína Čikovského\n",
      "\n",
      "https://www.aktuality.sk/clanok/6m5ksh6/eurostat-v-druhom-stvrtroku-2021-stupol-pocet-prvoziadatelov-o-azyl-v-eu/\n",
      "Eurostat: V druhom štvrťroku 2021 stúpol počet prvožiadateľov o azyl v EÚ\n",
      "\n",
      "https://www.aktuality.sk/clanok/6t70nhk/inspekcia-obvinila-dvoch-vysetrovatelov-z-timu-ocistec/\n",
      "Inšpekcia obvinila dvoch vyšetrovateľov z tímu Očistec\n",
      "\n",
      "https://www.aktuality.sk/clanok/898291/lahky-podcast-o-tazkej-korupcii-ako-je-to-v-skutocnosti-s-manipulaciami-vo-vysetrovani/\n",
      "\n",
      "\n",
      "https://www.aktuality.sk/clanok/900826/koho-by-malo-najviac-zasiahnut-milionove-odskodne-pre-kuciakovcov-a-kusnirovcov/\n",
      "Koho by malo najviac zasiahnuť miliónové odškodné pre Kuciakovcov a Kušnírovcov\n",
      "\n",
      "https://www.aktuality.sk/clanok/ry5s2gy/zastavme-korupciu-za-robertom-ficom-sa-vynoril-mimoriadne-toxicky-clovek/\n",
      "Zastavme korupciu: Za Robertom Ficom sa vynoril mimoriadne „toxický“ človek\n",
      "\n",
      "https://www.aktuality.sk/clanok/1955fqw/disinfo-report-co-riesila-v-poslednych-mesiacoch-dezinformacna-scena-podcast/\n",
      "Disinfo Report: Čo riešila v posledných mesiacoch dezinformačná scéna? (podcast)\n",
      "\n",
      "https://www.aktuality.sk/clanok/876258/norbert-boedoer-zostava-vo-vazbe/\n",
      "Norbert Bödör zostáva vo väzbe\n",
      "\n",
      "https://www.aktuality.sk/clanok/900709/tohtorocna-jar-na-slovensku-bola-velmi-studena/\n",
      "Tohtoročná jar na Slovensku bola veľmi studená\n",
      "\n",
      "Running time:  0.08687305450439453\n",
      "If you want to exit program, them enter: exit\n",
      "If you want find connections between entities write them in this format: connections: <Robert Fico>; <Peter Pellegrini>; ...\n",
      "Enter query: \n"
     ]
    },
    {
     "name": "stdin",
     "output_type": "stream",
     "text": [
      " 2030\n"
     ]
    },
    {
     "name": "stdout",
     "output_type": "stream",
     "text": [
      "\n",
      "Found results: \n",
      "\n",
      "https://www.aktuality.sk/clanok/548722/komentar-juraja-mesika-vcasne-varovanie-pre-novu-radu-vlady/\n",
      "Komentár Juraja Mesíka: Včasné varovanie pre novú Radu vlády\n",
      "\n",
      "https://www.aktuality.sk/clanok/537249/eu-na-ceste-k-cistej-mobilite/\n",
      "EÚ na ceste k čistej mobilite\n",
      "\n",
      "https://www.aktuality.sk/clanok/7jmyg4x/eurokomisia-predlozila-konkretny-plan-digitalnej-transformacie-eu-do-roku-2030/\n",
      "Eurokomisia predložila konkrétny plán digitálnej transformácie EÚ do roku 2030\n",
      "\n",
      "https://www.aktuality.sk/clanok/p3q8jyy/cina-rozsiruje-svoj-jadrovy-arzenal-rychlejsie-nez-sa-ocakavalo/\n",
      "Čína rozširuje svoj jadrový arzenál rýchlejšie, než sa očakávalo\n",
      "\n",
      "https://www.aktuality.sk/clanok/726806/caputova-v-new-yorku-chvalila-slovensko-naozaj-ma-za-co-podcast/\n",
      "Čaputová v New Yorku chválila Slovensko – naozaj má za čo? (podcast)\n",
      "\n",
      "https://www.aktuality.sk/clanok/687199/organizatorka-strajku-studentov/\n",
      "Organizátorka štrajku študentov: Chceme zavrieť bane, zastaviť emisie a výrub lesa\n",
      "\n",
      "https://www.aktuality.sk/clanok/414282/tyzden-v-kocke-daga-danisa-v-koalicii-sa-konci-ticha-domacnost/\n",
      "Týždeň v kocke Daga Daniša: V koalícii sa končí tichá domácnosť\n",
      "\n",
      "https://www.aktuality.sk/clanok/903561/europa-co-robi-eu-s-klimakrizou-slovensko-vo-vyhode-podcast/\n",
      "Európa: Čo robí EÚ s klimakrízou. Slovensko vo výhode? (podcast)\n",
      "\n",
      "https://www.aktuality.sk/clanok/lebhwwk/nova-norska-vlada-chce-prisnejsie-regulovat-emisie-a-pokracovat-v-tazbe-ropy/\n",
      "Nová nórska vláda chce prísnejšie regulovať emisie a pokračovať v ťažbe ropy\n",
      "\n",
      "https://www.aktuality.sk/clanok/149150/klimaticke-zmeny-by-mohli-zabit-250000-deti/\n",
      "Klimatické zmeny by mohli zabiť 250.000 detí\n",
      "\n",
      "Running time:  0.08087897300720215\n",
      "If you want to exit program, them enter: exit\n",
      "If you want find connections between entities write them in this format: connections: <Robert Fico>; <Peter Pellegrini>; ...\n",
      "Enter query: \n"
     ]
    }
   ],
   "source": [
    "run()"
   ]
  }
 ],
 "metadata": {
  "kernelspec": {
   "display_name": "Python 3 (ipykernel)",
   "language": "python",
   "name": "python3"
  },
  "language_info": {
   "codemirror_mode": {
    "name": "ipython",
    "version": 3
   },
   "file_extension": ".py",
   "mimetype": "text/x-python",
   "name": "python",
   "nbconvert_exporter": "python",
   "pygments_lexer": "ipython3",
   "version": "3.8.10"
  }
 },
 "nbformat": 4,
 "nbformat_minor": 5
}
