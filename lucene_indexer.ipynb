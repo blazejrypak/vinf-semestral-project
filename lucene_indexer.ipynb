{
 "cells": [
  {
   "cell_type": "code",
   "execution_count": 1,
   "id": "38bd38f9-b7ba-4844-ba66-016348523130",
   "metadata": {},
   "outputs": [],
   "source": [
    "import lucene\n",
    "from lupyne import engine\n",
    "import json\n",
    "import unicodedata\n",
    "import os\n",
    "import re"
   ]
  },
  {
   "cell_type": "code",
   "execution_count": 2,
   "id": "6dd95448-361b-4645-81e6-35c227b379b5",
   "metadata": {},
   "outputs": [
    {
     "data": {
      "text/plain": [
       "<jcc.JCCEnv at 0x7f0b0082a410>"
      ]
     },
     "execution_count": 2,
     "metadata": {},
     "output_type": "execute_result"
    }
   ],
   "source": [
    "lucene.initVM(vmargs=['-Djava.awt.headless=true'])"
   ]
  },
  {
   "cell_type": "code",
   "execution_count": 3,
   "id": "558722d1-df20-40ca-bff4-05a98ac88eb1",
   "metadata": {},
   "outputs": [],
   "source": [
    "def str2ascii(string):\n",
    "    string = unicodedata.normalize('NFD', string)\n",
    "    string = string.encode('ascii', 'ignore')\n",
    "    string = string.decode(\"utf-8\")\n",
    "    return string\n",
    "\n",
    "def get_stop_words_re_patterns():\n",
    "    file_path='./stop_words.txt'\n",
    "    f = open(file_path, 'r', encoding='UTF-8')\n",
    "    words = [str2ascii(line).rstrip() for line in f]\n",
    "    f.close()\n",
    "    patterns = []\n",
    "    for stop_word in words:\n",
    "        w = re.compile(f' {stop_word} ', re.IGNORECASE)\n",
    "        patterns.append(w)\n",
    "    return patterns   "
   ]
  },
  {
   "cell_type": "code",
   "execution_count": 4,
   "id": "3cf6d6cb-f3b9-402c-9a86-0bee93fce75c",
   "metadata": {},
   "outputs": [
    {
     "data": {
      "text/plain": [
       "<Field: stored,indexed,tokenized>"
      ]
     },
     "execution_count": 4,
     "metadata": {},
     "output_type": "execute_result"
    }
   ],
   "source": [
    "indexer = engine.Indexer('lucene_index')\n",
    "indexer.set('file_path', stored=True)\n",
    "indexer.set('url', stored=True)\n",
    "indexer.set('title', engine.Field.Text, stored=True)\n",
    "indexer.set('content', engine.Field.Text, stored=True)"
   ]
  },
  {
   "cell_type": "code",
   "execution_count": 5,
   "id": "9ad064ce-16e7-42c0-ac25-ceef060ddf34",
   "metadata": {},
   "outputs": [],
   "source": [
    "def prepare_text(text, patterns):\n",
    "    text = str2ascii(text)\n",
    "    for p in patterns:\n",
    "        text = p.sub(' ', text)\n",
    "    return text\n",
    "\n",
    "patterns = get_stop_words_re_patterns()\n",
    "for base_path_n in range(1, 7):\n",
    "    articles = []\n",
    "    base_path = f'/usr/src//HTML/articles_output_part_{base_path_n}/'\n",
    "    collection = iter(sorted(os.listdir(base_path)))\n",
    "    for current_file_path in collection:\n",
    "        if '_SUCCESS' not in current_file_path and not str(current_file_path).startswith('.'):\n",
    "            with open(base_path + current_file_path, 'r', encoding='utf-8') as json_file:\n",
    "                doc = json.load(json_file)\n",
    "                doc['file_path'] = f'articles_output_part_{base_path_n}/' + current_file_path\n",
    "                articles.append(doc)\n",
    "    for article in articles:\n",
    "        file_path = article['file_path']\n",
    "        url = article['url']\n",
    "        title = prepare_text(article['title'], patterns)\n",
    "        content = prepare_text(article['content'], patterns)\n",
    "        indexer.add(file_path=file_path, url=url, title=title, content=content)\n",
    "    indexer.commit()"
   ]
  },
  {
   "cell_type": "code",
   "execution_count": 6,
   "id": "17573baf-4304-460d-af27-404906df1b97",
   "metadata": {},
   "outputs": [
    {
     "name": "stdout",
     "output_type": "stream",
     "text": [
      "https://www.aktuality.sk/clanok/868385/kauzy-burka-a-vichrica-maju-noveho-dozorujuceho-prokuratora/\n",
      "Kauzy Búrka a Víchrica majú nového dozorujúceho prokurátora\n",
      "https://www.aktuality.sk/clanok/625993/tyzden-sa-zacne-studenym-a-veternych-pocasim/\n",
      "Týždeň sa začne studeným a veterných počasím\n",
      "https://www.aktuality.sk/clanok/835492/ministerka-kolikova-pozastavila-vykon-funkcie-dvom-sudcom-z-akcie-vichrica/\n",
      "Ministerka Kolíková pozastavila výkon funkcie dvom sudcom z akcie Víchrica\n",
      "https://www.aktuality.sk/clanok/534376/vichrica-a-sneh-potrapia-slovensko-aj-dnes/\n",
      "Víchrica a sneh potrápia Slovensko aj dnes\n",
      "https://www.aktuality.sk/clanok/766352/cez-vikend-zasiahne-slovensko-silny-vietor/\n",
      "Cez víkend zasiahne Slovensko silný vietor\n",
      "https://www.aktuality.sk/clanok/139007/taliansko-burky-a-vichrica-si-vyziadali-jednu-obet/\n",
      "Taliansko: Búrky a víchrica si vyžiadali jednu obeť\n",
      "https://www.aktuality.sk/clanok/730727/na-severe-slovenska-moze-dnes-sprchnut/\n",
      "Na severe Slovenska môže dnes spŕchnuť\n",
      "https://www.aktuality.sk/clanok/749387/v-nedelu-bude-oblacne-pocasie-a-teplo/\n",
      "V nedeľu bude oblačné počasie a teplo\n",
      "https://www.aktuality.sk/clanok/892398/najvyssi-sud-nezmenil-dovody-vazby-u-moniky-jankovskej-a-exsudcu-molnara/\n",
      "Najvyšší súd nezmenil dôvody väzby u Moniky Jankovskej a exsudcu Molnára\n",
      "https://www.aktuality.sk/clanok/801097/v-utorok-bude-oblacno-na-severe-prehanky/\n",
      "V utorok bude oblačno, na severe prehánky\n",
      "https://www.aktuality.sk/clanok/523470/vikend-sa-zacne-oblacnym-pocasim/\n",
      "Víkend sa začne oblačným počasím\n",
      "https://www.aktuality.sk/clanok/546943/utorok-bude-oblacny/\n",
      "Utorok bude oblačný\n",
      "https://www.aktuality.sk/clanok/888913/prokurator-zilinka-nezistil-dovody-na-zrusenie-obvinenia-zoroslava-kollara/\n",
      "Prokurátor Žilinka nezistil dôvody na zrušenie obvinenia Zoroslava Kollára\n",
      "https://www.aktuality.sk/clanok/747277/na-viacerych-miestach-bude-snezit-na-zapade-prsat/\n",
      "Na viacerých miestach bude snežiť, na západe pršať\n",
      "https://www.aktuality.sk/clanok/817041/teploty-mozu-v-stredu-prekrocit-30-stupnov/\n",
      "Teploty môžu v stredu prekročiť 30 stupňov\n",
      "https://www.aktuality.sk/clanok/856929/sudkynu-jarmilu-urbancovu-neprepustili-z-vazby/\n",
      "Sudkyňu Jarmilu Urbancovú neprepustili z väzby\n",
      "https://www.aktuality.sk/clanok/775585/pondelok-bude-oblacny-a-s-prehankami/\n",
      "Pondelok bude oblačný a s prehánkami\n",
      "https://www.aktuality.sk/clanok/144653/polsko-burky-si-vyziadali-dva-zivoty-a-viacero-vazne-zranenych/\n",
      "POĽSKO: Búrky si vyžiadali dva životy a viacero vážne zranených\n",
      "https://www.aktuality.sk/clanok/652842/vianoce-budu-na-snehu-niekde-sa-rozprsi/\n",
      "Vianoce budú na snehu, niekde sa rozprší\n",
      "https://www.aktuality.sk/clanok/737574/dnes-bude-zamracene-miestami-dazd/\n",
      "Dnes bude zamračené, miestami dážď\n"
     ]
    }
   ],
   "source": [
    "hits = indexer.search('vichrica', field='content', count=20)\n",
    "for hit in hits:\n",
    "    with open('/usr/src//HTML/' + hit['file_path'], 'r', encoding='utf-8') as json_file:\n",
    "        doc = json.load(json_file)\n",
    "        print(doc['url'])\n",
    "        print(doc['title'])"
   ]
  },
  {
   "cell_type": "code",
   "execution_count": null,
   "id": "afc27182-d154-4db7-9920-8604bcb4f473",
   "metadata": {},
   "outputs": [],
   "source": []
  }
 ],
 "metadata": {
  "kernelspec": {
   "display_name": "Python 3 (ipykernel)",
   "language": "python",
   "name": "python3"
  },
  "language_info": {
   "codemirror_mode": {
    "name": "ipython",
    "version": 3
   },
   "file_extension": ".py",
   "mimetype": "text/x-python",
   "name": "python",
   "nbconvert_exporter": "python",
   "pygments_lexer": "ipython3",
   "version": "3.8.10"
  }
 },
 "nbformat": 4,
 "nbformat_minor": 5
}
